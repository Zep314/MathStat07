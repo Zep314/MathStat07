{
 "cells": [
  {
   "cell_type": "markdown",
   "id": "c23e201a",
   "metadata": {},
   "source": [
    "# Теория вероятностей и математическая статистика (семинары)\n",
    "## Урок 7. Непараметрические тесты"
   ]
  },
  {
   "cell_type": "code",
   "execution_count": 1,
   "id": "183c7f98",
   "metadata": {},
   "outputs": [],
   "source": [
    "import numpy as np\n",
    "import scipy.stats as stats"
   ]
  },
  {
   "cell_type": "markdown",
   "id": "19de149c",
   "metadata": {},
   "source": [
    "## Задача 1\n",
    "Даны две независимые выборки. Не соблюдается условие нормальности\n",
    "\n",
    "Выберете тест и проверьте, есть ли различия между выборками:\n",
    "\n",
    "x1 380,420, 290\n",
    "\n",
    "y1 140,360,200,900"
   ]
  },
  {
   "cell_type": "markdown",
   "id": "50fb4c88",
   "metadata": {},
   "source": [
    "### Решение\n",
    "В задаче указано, что выборки независимы. Поэтому для выявления статистических различий будем использовать критерий **Манна-Уитни**"
   ]
  },
  {
   "cell_type": "code",
   "execution_count": 2,
   "id": "f3b39a58",
   "metadata": {},
   "outputs": [
    {
     "data": {
      "text/plain": [
       "MannwhitneyuResult(statistic=0.0, pvalue=0.05714285714285714)"
      ]
     },
     "execution_count": 2,
     "metadata": {},
     "output_type": "execute_result"
    }
   ],
   "source": [
    "x1 = np.array([47, 90, 75])\n",
    "y1 = np.array([140, 360, 200, 900])\n",
    "\n",
    "stats.mannwhitneyu(x1, y1)"
   ]
  },
  {
   "cell_type": "markdown",
   "id": "3f8f1244",
   "metadata": {},
   "source": [
    "### Ответ:\n",
    "Значение pvalue=0.057 - больше, чем a = 0.05, что дает нам право сделать заключение о том, что в выборках статистичеких различий не обнаружено.\n",
    "\n",
    "**Вывод:** Статистических различий **нет**"
   ]
  },
  {
   "cell_type": "markdown",
   "id": "0943f43a",
   "metadata": {},
   "source": [
    "# \n",
    "## Задача 2\n",
    "Сделайте вывод по результатам, полученным с помощью функции\n",
    "\n",
    "Исследовалось влияние препарата на уровень давления пациентов. Сначала измерялось давление до приема препарата, потом через  10 минут и через 30 минут. Есть ли статистически значимые различия?\n",
    "\n",
    "1е измерение до приема препарата: 150, 160, 165, 145, 155\n",
    "\n",
    "2е измерение через 10 минут: 140, 155, 150, 130, 135\n",
    "\n",
    "3е измерение через 30 минут: 130, 130, 120, 130, 125"
   ]
  },
  {
   "cell_type": "markdown",
   "id": "7858b13e",
   "metadata": {},
   "source": [
    "### Решение\n",
    "В задаче указано, что проводились повторные измерения давления на одних и тех же пациентах, поэтому для решения используем критерий **Фридмана**"
   ]
  },
  {
   "cell_type": "code",
   "execution_count": 3,
   "id": "19f76997",
   "metadata": {},
   "outputs": [
    {
     "data": {
      "text/plain": [
       "FriedmanchisquareResult(statistic=9.578947368421062, pvalue=0.00831683351100441)"
      ]
     },
     "execution_count": 3,
     "metadata": {},
     "output_type": "execute_result"
    }
   ],
   "source": [
    "x1 = np.array([150, 160, 164, 145, 155])\n",
    "x2 = np.array([140, 155, 150, 130, 135])\n",
    "x3 = np.array([130, 130, 120, 130, 125])\n",
    "\n",
    "stats.friedmanchisquare(x1, x2, x3)"
   ]
  },
  {
   "cell_type": "markdown",
   "id": "8e745c42",
   "metadata": {},
   "source": [
    "### Ответ:\n",
    "Значение pvalue=0.008 - меньше, чем a = 0.05, что дает нам право сделать заключение о том, что в выборках есть статистичекие различия.\n",
    "\n",
    "**Вывод:** Статистические различий **есть**"
   ]
  },
  {
   "cell_type": "markdown",
   "id": "66d5fbca",
   "metadata": {},
   "source": [
    "# \n",
    "## Задача 3\n",
    "Сравните 1 и 2 е измерения, предполагая, что 3го измерения через 30 минут не было."
   ]
  },
  {
   "cell_type": "markdown",
   "id": "058ef4c9",
   "metadata": {},
   "source": [
    "### Решение\n",
    "В этом случае у нас есть всего 2 зависимых выборки, поэтому для решения используем критерий **Уилкоксона**"
   ]
  },
  {
   "cell_type": "code",
   "execution_count": 4,
   "id": "d2024e83",
   "metadata": {},
   "outputs": [
    {
     "data": {
      "text/plain": [
       "WilcoxonResult(statistic=0.0, pvalue=0.0625)"
      ]
     },
     "execution_count": 4,
     "metadata": {},
     "output_type": "execute_result"
    }
   ],
   "source": [
    "stats.wilcoxon(x1, x2)"
   ]
  },
  {
   "cell_type": "markdown",
   "id": "82f6238c",
   "metadata": {},
   "source": [
    "### Ответ:\n",
    "Значение pvalue=0.0625 - больше, чем a = 0.05, что дает нам право сделать заключение о том, что в выборках нет статистичеких различий.\n",
    "\n",
    "**Вывод:** Статистических различий **нет**"
   ]
  },
  {
   "cell_type": "markdown",
   "id": "29b8a225",
   "metadata": {},
   "source": [
    "# \n",
    "## Задача 4\n",
    "Даны 3 группы учеников плавания.\n",
    "\n",
    "В 1 группе время на дистанцию 50 м составляют:\n",
    "\n",
    "56, 60, 62, 55, 71, 67, 59, 58, 64, 67\n",
    "\n",
    "Вторая группа : 57, 58, 69, 48, 72, 70, 68, 71, 50, 53\n",
    "\n",
    "Третья группа: 57, 67, 49, 48, 47, 55, 66, 51, 54"
   ]
  },
  {
   "cell_type": "markdown",
   "id": "aab8865f",
   "metadata": {},
   "source": [
    "### Решение\n",
    "В задаче указано, что используются 3 разные группы учеников. Остюда делаем вывод, что выборки независимые. Так, как количество выборок более 2-х, то для решения используем критерий **Крускала - Уоллиса**"
   ]
  },
  {
   "cell_type": "code",
   "execution_count": 5,
   "id": "0a3d0ac6",
   "metadata": {},
   "outputs": [
    {
     "data": {
      "text/plain": [
       "KruskalResult(statistic=5.465564058257224, pvalue=0.0650380998590494)"
      ]
     },
     "execution_count": 5,
     "metadata": {},
     "output_type": "execute_result"
    }
   ],
   "source": [
    "x1 = np.array([56, 60, 62, 55, 71, 67, 59, 58, 64, 67])\n",
    "x2 = np.array([57, 58, 69, 48, 72, 70, 68, 71, 50, 53])\n",
    "x3 = np.array([57, 67, 49, 48, 47, 55, 66, 51, 54])\n",
    "\n",
    "stats.kruskal(x1, x2, x3)"
   ]
  },
  {
   "cell_type": "markdown",
   "id": "00f77f00",
   "metadata": {},
   "source": [
    "### Ответ:\n",
    "Значение pvalue=0.065 - больше, чем a = 0.05, что дает нам право сделать заключение о том, что в выборках нет статистичеких различий.\n",
    "\n",
    "**Вывод:** Статистических различий **нет**"
   ]
  },
  {
   "cell_type": "markdown",
   "id": "e998d7b8",
   "metadata": {},
   "source": [
    "# \n",
    "## Задача 5\n",
    "Заявляется, что партия изготавливается со средним арифметическим 2,5 см. Проверить данную гипотезу, если известно, что размеры изделий подчинены нормальному закону распределения. Объем выборки 10, уровень статистической значимости 5%\n",
    "\n",
    "2.51, 2.35, 2.74, 2.56, 2.40, 2.36, 2.65, 2.7, 2.67, 2.34\n",
    "\n",
    "Задачу решить вручную"
   ]
  },
  {
   "cell_type": "markdown",
   "id": "80524412",
   "metadata": {},
   "source": [
    "### Решение\n",
    "В нашем случае указано, что размеры изделий подчинены нормльному закону распределения. Так же, на не известна стандартное квадратическое отклонение генеральной совокупности, поэтому для решения используем критерий **Стьюдента**"
   ]
  },
  {
   "cell_type": "markdown",
   "id": "b22fccdb",
   "metadata": {},
   "source": [
    "$$ t_{н}= \\frac{( \\bar x - μ )}{σ} \\sqrt{ n } $$"
   ]
  },
  {
   "cell_type": "markdown",
   "id": "53e7fb78",
   "metadata": {},
   "source": [
    "Среднее наблюдаемых значений равно:"
   ]
  },
  {
   "cell_type": "code",
   "execution_count": 6,
   "id": "f2e305f5",
   "metadata": {},
   "outputs": [
    {
     "data": {
      "text/plain": [
       "2.5279999999999996"
      ]
     },
     "execution_count": 6,
     "metadata": {},
     "output_type": "execute_result"
    }
   ],
   "source": [
    "x = np.array([2.51, 2.35, 2.74, 2.56, 2.40, 2.36, 2.65, 2.7, 2.67, 2.34])\n",
    "#sum(x)/len(x)\n",
    "x.mean()"
   ]
  },
  {
   "cell_type": "markdown",
   "id": "07aa5992",
   "metadata": {},
   "source": [
    "Стандартное несмещенное отклонение в наблюдаемой выборке:"
   ]
  },
  {
   "cell_type": "code",
   "execution_count": 7,
   "id": "c8d91d31",
   "metadata": {},
   "outputs": [
    {
     "data": {
      "text/plain": [
       "0.1572542173961923"
      ]
     },
     "execution_count": 7,
     "metadata": {},
     "output_type": "execute_result"
    }
   ],
   "source": [
    "x.std(ddof = 1)"
   ]
  },
  {
   "cell_type": "markdown",
   "id": "b66a75e8",
   "metadata": {},
   "source": [
    "μ = 2.5 - из условия задачи"
   ]
  },
  {
   "cell_type": "markdown",
   "id": "67533412",
   "metadata": {},
   "source": [
    "n = 10 - длина выборки\n",
    "\n",
    "Вычисляем $t_н$:"
   ]
  },
  {
   "cell_type": "code",
   "execution_count": 8,
   "id": "9db0555d",
   "metadata": {},
   "outputs": [
    {
     "data": {
      "text/plain": [
       "0.5630613661802959"
      ]
     },
     "execution_count": 8,
     "metadata": {},
     "output_type": "execute_result"
    }
   ],
   "source": [
    "tn = (x.mean()-2.5)/(x.std(ddof=1)/np.sqrt(len(x)))\n",
    "tn"
   ]
  },
  {
   "cell_type": "markdown",
   "id": "3d664562",
   "metadata": {},
   "source": [
    "Проверим наши расчеты со встроенной функцией:"
   ]
  },
  {
   "cell_type": "code",
   "execution_count": 9,
   "id": "ca8e55fe",
   "metadata": {},
   "outputs": [
    {
     "data": {
      "text/plain": [
       "Ttest_1sampResult(statistic=0.5630613661802959, pvalue=0.5871439993940628)"
      ]
     },
     "execution_count": 9,
     "metadata": {},
     "output_type": "execute_result"
    }
   ],
   "source": [
    "stats.ttest_1samp(x,2.5)"
   ]
  },
  {
   "cell_type": "markdown",
   "id": "f3de9dfc",
   "metadata": {},
   "source": [
    "Статистики сошлись. "
   ]
  },
  {
   "cell_type": "markdown",
   "id": "dee31bb6",
   "metadata": {},
   "source": [
    "Статистика по критерию Стьюдента получилась равной **0.563**, а табличное значение для 9 степеней свободы и p=0.95 равно **1.833**. Вычисленное значение на графике закона нормального распределения находится левее табличного."
   ]
  },
  {
   "cell_type": "markdown",
   "id": "fc4fd7b5",
   "metadata": {},
   "source": [
    "### Ответ:\n",
    "Значение pvalue=0.587 - больше, чем a = 0.05, что дает нам право сделать заключение о том, что мы принимаем нулевую гипотезу, и что наблюдаемые значения подчиняются закону нормального распределения.\n",
    "\n",
    "**Вывод:** Статистических различий **нет**"
   ]
  },
  {
   "cell_type": "code",
   "execution_count": null,
   "id": "2a43dee2",
   "metadata": {},
   "outputs": [],
   "source": []
  }
 ],
 "metadata": {
  "kernelspec": {
   "display_name": "Python 3 (ipykernel)",
   "language": "python",
   "name": "python3"
  },
  "language_info": {
   "codemirror_mode": {
    "name": "ipython",
    "version": 3
   },
   "file_extension": ".py",
   "mimetype": "text/x-python",
   "name": "python",
   "nbconvert_exporter": "python",
   "pygments_lexer": "ipython3",
   "version": "3.9.12"
  }
 },
 "nbformat": 4,
 "nbformat_minor": 5
}
